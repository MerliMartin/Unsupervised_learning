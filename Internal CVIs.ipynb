{
 "cells": [
  {
   "cell_type": "markdown",
   "metadata": {},
   "source": [
    "## SSE\n",
    "\n",
    "As input, we will receive a list of cluster along with the points that belong to them, i.e.:\n",
    "- input=[cluster1, cluster2, cluster3 ...]\n",
    "- clusterN=[x1,x2,x3...]"
   ]
  },
  {
   "cell_type": "code",
   "execution_count": 72,
   "metadata": {},
   "outputs": [],
   "source": [
    "import numpy as np"
   ]
  },
  {
   "cell_type": "code",
   "execution_count": null,
   "metadata": {},
   "outputs": [],
   "source": []
  },
  {
   "cell_type": "code",
   "execution_count": 73,
   "metadata": {},
   "outputs": [
    {
     "data": {
      "text/plain": [
       "[array([3.9186019 , 6.67964378, 3.95430431, 1.90117822, 8.10139771,\n",
       "        8.30432089, 2.09575177, 4.076664  , 8.28032896, 5.30120602,\n",
       "        7.7266808 , 2.43775942, 4.30270609, 3.03237187, 3.37147159,\n",
       "        6.82706421, 6.85755848, 2.77975737, 6.68245222, 9.97821867]),\n",
       " array([6.98238459, 7.40687816, 6.75138427, 9.44319861, 5.31727027,\n",
       "        7.56130505, 8.72551368, 9.85423828, 8.15580011, 6.56667648,\n",
       "        9.70595421, 6.74019898, 7.95873441, 4.44846259, 4.50411116,\n",
       "        2.27363826, 1.08725183, 8.14591459, 1.63933378, 2.63084416]),\n",
       " array([5.04742735, 4.9493005 , 6.11960431, 7.68660888, 4.11312136,\n",
       "        7.84925482, 6.93328367, 8.50513242, 2.51316375, 9.48610343,\n",
       "        7.74022175, 2.58404031, 8.86538348, 7.34568524, 9.65134973,\n",
       "        8.04602758, 8.39883868, 4.29261098, 1.49707397, 6.68501853]),\n",
       " array([9.41529952, 6.82268748, 9.26526782, 7.79589566, 9.26932971,\n",
       "        5.79870924, 4.55514512, 9.18643169, 9.63747535, 8.37119824,\n",
       "        8.15412486, 5.02817993, 7.42572385, 4.22888491, 7.36224437,\n",
       "        9.37241652, 2.98241839, 3.10615531, 9.7589499 , 1.16617022]),\n",
       " array([8.49574056, 4.20946225, 8.7545083 , 3.94558236, 5.71501433,\n",
       "        6.8430913 , 5.6259441 , 4.66139601, 1.86628085, 5.0079586 ,\n",
       "        7.77991733, 9.83704371, 8.02305935, 9.27414058, 9.01832623,\n",
       "        9.54777482, 8.00211139, 2.4389098 , 5.87411912, 2.91062221]),\n",
       " array([6.28589097, 9.4223106 , 6.97899428, 7.31833295, 1.71478324,\n",
       "        7.97088516, 5.84398595, 5.78411315, 8.12108344, 2.14645235,\n",
       "        7.70745114, 2.6107823 , 8.40707998, 2.6089367 , 1.62484697,\n",
       "        2.10324196, 7.86141787, 4.70770685, 8.37814696, 4.97724452]),\n",
       " array([2.89720539, 1.94916867, 3.78133434, 8.1711538 , 7.99533477,\n",
       "        4.13612554, 5.66191837, 3.88082748, 1.37099612, 1.75086896,\n",
       "        7.68369954, 8.12135686, 9.65103085, 9.12459677, 5.88254386,\n",
       "        4.13433742, 8.98310678, 7.12575197, 8.18801879, 5.26057362]),\n",
       " array([6.55420983, 3.28889793, 7.40718703, 6.73057019, 3.01453998,\n",
       "        6.48203169, 1.45181871, 9.59463626, 9.88801706, 9.29102852,\n",
       "        2.84811384, 3.56021919, 6.43503717, 5.30855084, 9.38869198,\n",
       "        7.93879979, 4.67373091, 3.88134409, 1.18328641, 7.26634495]),\n",
       " array([6.53999098, 6.10348421, 3.46420739, 8.70739945, 9.84310386,\n",
       "        5.91867529, 4.80386375, 7.64176094, 8.62740259, 3.63989149,\n",
       "        9.45422584, 8.31093104, 6.53821294, 7.15499383, 5.94994137,\n",
       "        3.08001813, 5.32358046, 3.59809681, 3.04085279, 9.31323515]),\n",
       " array([3.21443522, 6.56261276, 2.17896728, 8.37887307, 5.65160768,\n",
       "        6.37921051, 6.08860539, 2.53442825, 4.15089991, 4.00150628,\n",
       "        1.73309828, 1.18217054, 4.46901687, 2.11961038, 7.66820957,\n",
       "        1.80387035, 9.78752509, 6.17883225, 6.59893958, 1.60610059])]"
      ]
     },
     "execution_count": 73,
     "metadata": {},
     "output_type": "execute_result"
    }
   ],
   "source": [
    "# Initializing List of Clusters\n",
    "oned_cluster = [np.random.uniform(low=1.0, high=10.0, size=20)\n",
    "for i in range(10)\n",
    "]\n",
    "oned_cluster"
   ]
  },
  {
   "cell_type": "code",
   "execution_count": 74,
   "metadata": {},
   "outputs": [],
   "source": [
    "# Compute SSE\n",
    "def sse_1d(clusters):\n",
    "    sse=list()\n",
    "    for c in clusters:\n",
    "        mu=np.mean(c)\n",
    "        sse.extend([(ci-mu)**2 for ci in c])\n",
    "    return np.sum(sse)"
   ]
  },
  {
   "cell_type": "code",
   "execution_count": 75,
   "metadata": {},
   "outputs": [
    {
     "data": {
      "text/plain": [
       "1240.9192560667134"
      ]
     },
     "execution_count": 75,
     "metadata": {},
     "output_type": "execute_result"
    }
   ],
   "source": [
    "sse_1d(oned_cluster)"
   ]
  },
  {
   "cell_type": "code",
   "execution_count": 76,
   "metadata": {},
   "outputs": [
    {
     "data": {
      "text/plain": [
       "(array([3.9186019 , 6.67964378, 3.95430431, 1.90117822, 8.10139771,\n",
       "        8.30432089, 2.09575177, 4.076664  , 8.28032896, 5.30120602,\n",
       "        7.7266808 , 2.43775942, 4.30270609, 3.03237187, 3.37147159,\n",
       "        6.82706421, 6.85755848, 2.77975737, 6.68245222, 9.97821867]),\n",
       " array([2.71764   , 7.09356586, 3.1767905 , 5.26744994, 5.98358111,\n",
       "        7.0476466 , 8.58868402, 1.03015033, 5.28638262, 1.97681592,\n",
       "        9.42204894, 5.83158833, 9.42042533, 2.66745158, 3.1994754 ,\n",
       "        7.40904851, 8.95862522, 8.41956457, 3.51418417, 9.36500441]))"
      ]
     },
     "execution_count": 76,
     "metadata": {},
     "output_type": "execute_result"
    }
   ],
   "source": [
    "second_clusters = [np.random.uniform(low=1.0, high=10.0, size=20)\n",
    "for y in range(10)\n",
    "]\n",
    "twod_clusters = list(zip(oned_cluster, second_clusters))\n",
    "twod_clusters[0]"
   ]
  },
  {
   "cell_type": "code",
   "execution_count": 78,
   "metadata": {},
   "outputs": [
    {
     "data": {
      "text/plain": [
       "[1240.9192560667134, 1287.6984880450484]"
      ]
     },
     "execution_count": 78,
     "metadata": {},
     "output_type": "execute_result"
    }
   ],
   "source": [
    "# Pair-wise squared distances\n",
    "def sse_2d(clusters):\n",
    "    sse_x = list()\n",
    "    sse_y = list()\n",
    "\n",
    "    for x, y in clusters:\n",
    "        mu_x = np.mean(x)\n",
    "        mu_y = np.mean(y)\n",
    "        for ci in x:\n",
    "            sse_x.extend([(ci-mu_x)**2])\n",
    "        for cj in y:\n",
    "            sse_y.extend([(cj-mu_y)**2])\n",
    "    sum_x = np.sum(sse_x)\n",
    "    sum_y = np.sum(sse_y)    \n",
    "    return [sum_x, sum_y]\n",
    "        \n",
    "\n",
    "sse_2d(twod_clusters)"
   ]
  },
  {
   "cell_type": "markdown",
   "metadata": {},
   "source": [
    "## Davies-Bouldin Index\n",
    "\n",
    "Implement the DB-Index\n"
   ]
  },
  {
   "cell_type": "code",
   "execution_count": 79,
   "metadata": {},
   "outputs": [],
   "source": [
    "# DB Index: DB(C)\n",
    "def db_index(clusters):\n",
    "    dbi=0\n",
    "    for i, ic in enumerate(clusters):\n",
    "        Dij_val = []\n",
    "        for k, kc in enumerate(clusters):\n",
    "            Dij_val.append(Dij(ic,kc))\n",
    "        dbi_sum += max(Dij_val)"
   ]
  },
  {
   "cell_type": "code",
   "execution_count": 80,
   "metadata": {},
   "outputs": [],
   "source": [
    "# within-to-between cluster distance\n",
    "def d_ij(ci, cj):\n",
    "    mu_i = np.mean(ci)\n",
    "    mu_j = np.mean(cj)\n",
    "    return abs(mu_i - mu_j)"
   ]
  },
  {
   "cell_type": "markdown",
   "metadata": {},
   "source": [
    "### Average distance between each point in a cluster"
   ]
  },
  {
   "cell_type": "code",
   "execution_count": 81,
   "metadata": {},
   "outputs": [],
   "source": [
    "# within-to-between cluster distance\n",
    "def d_bar(ci):\n",
    "    centroud = np.mean(ci)\n",
    "    dist = []\n",
    "    for pt in ci:\n",
    "        dist.append(abs(pt-centroud))  # absolute distance from centroid eg. pt=1, dist=abs(1-5)=4\n",
    "    return np.mean(dist)"
   ]
  },
  {
   "cell_type": "code",
   "execution_count": 82,
   "metadata": {},
   "outputs": [],
   "source": [
    "def Dij(ci, cj):\n",
    "    return ((d_bar(ci) + d_bar(cj))/d_ij(ci, cj))"
   ]
  }
 ],
 "metadata": {
  "kernelspec": {
   "display_name": "Python 3.10.6 64-bit (microsoft store)",
   "language": "python",
   "name": "python3"
  },
  "language_info": {
   "codemirror_mode": {
    "name": "ipython",
    "version": 3
   },
   "file_extension": ".py",
   "mimetype": "text/x-python",
   "name": "python",
   "nbconvert_exporter": "python",
   "pygments_lexer": "ipython3",
   "version": "3.10.6"
  },
  "orig_nbformat": 4,
  "vscode": {
   "interpreter": {
    "hash": "04aa9e85f0a87975a5b24e07f65309498190deb4d02ed08f8d67dd994279bb28"
   }
  }
 },
 "nbformat": 4,
 "nbformat_minor": 2
}
