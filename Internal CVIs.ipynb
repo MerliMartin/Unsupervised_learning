{
 "cells": [
  {
   "cell_type": "markdown",
   "metadata": {},
   "source": [
    "## SSE\n",
    "\n",
    "As input, we will receive a list of cluster along with the points that belong to them, i.e.:\n",
    "- input=[cluster1, cluster2, cluster3 ...]\n",
    "- clusterN=[x1,x2,x3...]"
   ]
  },
  {
   "cell_type": "code",
   "execution_count": 146,
   "metadata": {},
   "outputs": [],
   "source": [
    "import numpy as np"
   ]
  },
  {
   "cell_type": "code",
   "execution_count": null,
   "metadata": {},
   "outputs": [],
   "source": []
  },
  {
   "cell_type": "code",
   "execution_count": 147,
   "metadata": {},
   "outputs": [
    {
     "data": {
      "text/plain": [
       "[array([8.71407265, 4.7946932 , 1.79705735, 2.90306727, 1.37523127,\n",
       "        6.78390669, 6.84173478, 2.36184571, 5.77767627, 5.94836718,\n",
       "        6.03772351, 8.65510138, 1.93398252, 4.05465124, 2.53908789,\n",
       "        3.13888579, 7.66966205, 9.17810104, 9.20963084, 8.62152819]),\n",
       " array([2.99082701, 2.38563204, 6.55661603, 9.33521507, 5.24448525,\n",
       "        4.98602399, 4.17600096, 1.40723284, 4.72391048, 7.72533852,\n",
       "        3.38377655, 9.8119346 , 6.6318284 , 2.04691671, 5.10591734,\n",
       "        8.87278571, 1.3668101 , 1.36628833, 9.72463681, 3.4225437 ]),\n",
       " array([4.55967393, 6.3409259 , 8.93179832, 4.25353744, 3.3870529 ,\n",
       "        2.59976815, 8.66039815, 7.21606847, 1.48886069, 2.05905185,\n",
       "        5.28186796, 9.92029772, 1.19161147, 7.26488166, 9.99593562,\n",
       "        5.98098151, 6.59439035, 9.32734906, 6.29432151, 3.26366384]),\n",
       " array([9.6818429 , 4.31451283, 4.34733118, 5.06044967, 8.11969421,\n",
       "        5.35139182, 7.75551925, 9.6008486 , 6.15372447, 9.51768517,\n",
       "        5.71228917, 1.66865356, 8.47606619, 3.56142042, 8.95828651,\n",
       "        4.64314994, 3.93030825, 2.52091686, 2.85880586, 2.76984308]),\n",
       " array([1.77088856, 3.32215595, 7.99400518, 2.75809653, 2.6420581 ,\n",
       "        5.71652097, 5.10038774, 9.31231167, 9.92582916, 2.31746903,\n",
       "        3.30740089, 4.16941453, 6.80095178, 5.78617517, 6.6838098 ,\n",
       "        8.83398669, 3.50122082, 4.16935884, 7.66965388, 9.64125477]),\n",
       " array([4.50757258, 1.71400311, 9.63714915, 9.3889794 , 5.96844386,\n",
       "        3.86357478, 8.14332493, 7.67617741, 9.92979782, 8.53831865,\n",
       "        4.64110493, 4.41624365, 1.19557865, 9.48970374, 6.10006688,\n",
       "        6.17887387, 8.58180689, 5.17079401, 6.02608928, 9.84048382]),\n",
       " array([7.70829285, 9.12947876, 9.99531666, 6.06151968, 1.52024172,\n",
       "        3.48807876, 5.81868353, 9.58837717, 7.50404774, 8.56022735,\n",
       "        7.00622917, 8.92231992, 8.73005276, 2.11971442, 9.21000201,\n",
       "        7.17499198, 7.47243762, 2.69533473, 7.68793204, 8.20012222]),\n",
       " array([3.19157616, 9.28864309, 5.76505556, 9.43697014, 8.45111735,\n",
       "        7.57135324, 7.08914592, 1.05975649, 5.6404598 , 1.44338795,\n",
       "        3.54497104, 3.74751076, 6.67175535, 9.67675961, 6.00024394,\n",
       "        4.18744447, 8.38951411, 2.1284281 , 3.14099873, 1.78974851]),\n",
       " array([2.85136552, 8.22026597, 7.18780773, 1.72071907, 2.12759459,\n",
       "        7.68851266, 1.36811017, 7.38132513, 7.75191158, 6.10657342,\n",
       "        2.83159879, 4.90626217, 8.90799961, 6.54157667, 4.04808569,\n",
       "        8.95438586, 7.87632568, 2.46206684, 6.32263717, 8.60179239]),\n",
       " array([2.09472163, 5.55381249, 7.86946119, 3.83464558, 4.6418816 ,\n",
       "        6.87287336, 4.23906807, 9.17874497, 7.2346505 , 2.05042674,\n",
       "        2.70220611, 5.97561055, 6.80573982, 1.19322646, 8.15846422,\n",
       "        2.54197036, 2.13404719, 7.50376364, 7.70185393, 5.84543691])]"
      ]
     },
     "execution_count": 147,
     "metadata": {},
     "output_type": "execute_result"
    }
   ],
   "source": [
    "# Initializing List of Clusters\n",
    "oned_cluster = [np.random.uniform(low=1.0, high=10.0, size=20)\n",
    "for i in range(10)\n",
    "]\n",
    "oned_cluster"
   ]
  },
  {
   "cell_type": "code",
   "execution_count": 148,
   "metadata": {},
   "outputs": [],
   "source": [
    "# Compute SSE\n",
    "def sse_1d(clusters):\n",
    "    sse=list()\n",
    "    for c in clusters:\n",
    "        mu=np.mean(c)\n",
    "        sse.extend([(ci-mu)**2 for ci in c])\n",
    "    return np.sum(sse)"
   ]
  },
  {
   "cell_type": "code",
   "execution_count": 149,
   "metadata": {},
   "outputs": [
    {
     "data": {
      "text/plain": [
       "1374.1014314845224"
      ]
     },
     "execution_count": 149,
     "metadata": {},
     "output_type": "execute_result"
    }
   ],
   "source": [
    "sse_1d(oned_cluster)"
   ]
  },
  {
   "cell_type": "code",
   "execution_count": 150,
   "metadata": {},
   "outputs": [
    {
     "data": {
      "text/plain": [
       "(array([8.71407265, 4.7946932 , 1.79705735, 2.90306727, 1.37523127,\n",
       "        6.78390669, 6.84173478, 2.36184571, 5.77767627, 5.94836718,\n",
       "        6.03772351, 8.65510138, 1.93398252, 4.05465124, 2.53908789,\n",
       "        3.13888579, 7.66966205, 9.17810104, 9.20963084, 8.62152819]),\n",
       " array([5.47918119, 6.26711198, 2.12559996, 4.4134696 , 4.42760332,\n",
       "        2.78578823, 5.60131072, 4.48526372, 2.78934258, 6.23122225,\n",
       "        7.43383958, 5.71984534, 6.72296382, 7.862001  , 4.63826502,\n",
       "        6.83826875, 1.38703755, 4.89957616, 5.53532337, 4.16217714]))"
      ]
     },
     "execution_count": 150,
     "metadata": {},
     "output_type": "execute_result"
    }
   ],
   "source": [
    "second_clusters = [np.random.uniform(low=1.0, high=10.0, size=20)\n",
    "for y in range(10)\n",
    "]\n",
    "twod_clusters = list(zip(oned_cluster, second_clusters))\n",
    "twod_clusters[0]"
   ]
  },
  {
   "cell_type": "code",
   "execution_count": 151,
   "metadata": {},
   "outputs": [
    {
     "data": {
      "text/plain": [
       "[1374.1014314845224, 1209.8144935991659]"
      ]
     },
     "execution_count": 151,
     "metadata": {},
     "output_type": "execute_result"
    }
   ],
   "source": [
    "# Pair-wise squared distances\n",
    "def sse_2d(clusters):\n",
    "    sse_x = list()\n",
    "    sse_y = list()\n",
    "\n",
    "    for x, y in clusters:\n",
    "        mu_x = np.mean(x)\n",
    "        mu_y = np.mean(y)\n",
    "        for ci in x:\n",
    "            sse_x.extend([(ci-mu_x)**2])\n",
    "        for cj in y:\n",
    "            sse_y.extend([(cj-mu_y)**2])\n",
    "    sum_x = np.sum(sse_x)\n",
    "    sum_y = np.sum(sse_y)    \n",
    "    return [sum_x, sum_y]\n",
    "        \n",
    "\n",
    "sse_2d(twod_clusters)"
   ]
  },
  {
   "cell_type": "markdown",
   "metadata": {},
   "source": [
    "## Davies-Bouldin Index\n",
    "\n",
    "Implement the DB-Index\n"
   ]
  },
  {
   "cell_type": "code",
   "execution_count": 152,
   "metadata": {},
   "outputs": [],
   "source": [
    "# within-to-between cluster distance\n",
    "def d_ij(ci, cj):\n",
    "    mu_i = np.mean(ci)\n",
    "    mu_j = np.mean(cj)\n",
    "    return abs(mu_i - mu_j)"
   ]
  },
  {
   "cell_type": "markdown",
   "metadata": {},
   "source": [
    "### Average distance between each point in a cluster"
   ]
  },
  {
   "cell_type": "code",
   "execution_count": 153,
   "metadata": {},
   "outputs": [],
   "source": [
    "# within-to-between cluster distance\n",
    "def d_bar(ci):\n",
    "    centroid = np.mean(ci)\n",
    "    dist = []\n",
    "    for pt in ci:\n",
    "        dist.append(abs(pt-centroid))  # absolute distance from centroid eg. pt=1, dist=abs(1-5)=4\n",
    "    return np.mean(dist)"
   ]
  },
  {
   "cell_type": "code",
   "execution_count": 154,
   "metadata": {},
   "outputs": [],
   "source": [
    "def Dij(ci, cj):\n",
    "    return (\n",
    "                (d_bar(ci) + d_bar(cj)) / # intra-cluster distance\n",
    "                d_ij(ci, cj) # inter-cluster distance\n",
    "            )"
   ]
  },
  {
   "cell_type": "code",
   "execution_count": 155,
   "metadata": {},
   "outputs": [],
   "source": [
    "# DB Index: DB(C)\n",
    "def db_index(clusters):\n",
    "    dbi_sum=0\n",
    "    for i, ic in enumerate(clusters):\n",
    "        Dij_val = []\n",
    "        for k, kc in enumerate(clusters):\n",
    "            if i != k:\n",
    "                Dij_val.append(Dij(ic,kc))\n",
    "        dbi_sum += max(Dij_val)\n",
    "    return dbi_sum"
   ]
  },
  {
   "cell_type": "code",
   "execution_count": 156,
   "metadata": {},
   "outputs": [
    {
     "data": {
      "text/plain": [
       "2310.08462857775"
      ]
     },
     "execution_count": 156,
     "metadata": {},
     "output_type": "execute_result"
    }
   ],
   "source": [
    "db_index(oned_cluster)"
   ]
  },
  {
   "cell_type": "code",
   "execution_count": null,
   "metadata": {},
   "outputs": [],
   "source": []
  }
 ],
 "metadata": {
  "kernelspec": {
   "display_name": "Python 3.10.6 64-bit (microsoft store)",
   "language": "python",
   "name": "python3"
  },
  "language_info": {
   "codemirror_mode": {
    "name": "ipython",
    "version": 3
   },
   "file_extension": ".py",
   "mimetype": "text/x-python",
   "name": "python",
   "nbconvert_exporter": "python",
   "pygments_lexer": "ipython3",
   "version": "3.10.6"
  },
  "orig_nbformat": 4,
  "vscode": {
   "interpreter": {
    "hash": "04aa9e85f0a87975a5b24e07f65309498190deb4d02ed08f8d67dd994279bb28"
   }
  }
 },
 "nbformat": 4,
 "nbformat_minor": 2
}
